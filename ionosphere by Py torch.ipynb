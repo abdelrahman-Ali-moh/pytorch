{
 "cells": [
  {
   "cell_type": "code",
   "execution_count": 41,
   "metadata": {},
   "outputs": [],
   "source": [
    "import torch\n",
    "from torch.utils.data import Dataset,random_split,DataLoader\n",
    "from torch.nn import Linear,ReLU,Sigmoid,Tanh,Softmax,Module,BCELoss\n",
    "from torch.optim import Adam,SGD\n",
    "from torch.nn.init import xavier_uniform_,kaiming_uniform_\n",
    "import pandas as pd\n",
    "from torch import Tensor\n",
    "from sklearn.preprocessing import LabelEncoder\n",
    "import numpy as np\n",
    "from sklearn.metrics import accuracy_score"
   ]
  },
  {
   "cell_type": "code",
   "execution_count": 33,
   "metadata": {},
   "outputs": [],
   "source": [
    "class fetchData(Dataset):\n",
    "    def __init__(self,path):\n",
    "        data=pd.read_csv(path,header=None,)\n",
    "        self.x=data.values[:,:-1]\n",
    "        self.x=self.x.astype('float32')\n",
    "        self.y=data.values[:,-1]\n",
    "        self.y=LabelEncoder().fit_transform(self.y)\n",
    "        self.y=self.y.astype('float32')\n",
    "        self.y=self.y.reshape(len(self.y),1)\n",
    "\n",
    "        \n",
    "    def __len__(self):\n",
    "        return len(self.y)\n",
    "    def __getitem__(self,index):\n",
    "        return self.x[index],self.y[index]\n",
    "    def split(self,ratio=0.3):\n",
    "        size1=round(ratio*len(self.x))\n",
    "        size2=len(self.x) -size1\n",
    "        return random_split(self,[size1,size2])\n",
    "def getdata(path,ratio=0.5):\n",
    "    obj=fetchData(path)\n",
    "    train,test=obj.split(ratio)\n",
    "    train=DataLoader(train,shuffle=True,batch_size=30)\n",
    "    test=DataLoader(test,shuffle=False,batch_size=1000)\n",
    "    return train,test"
   ]
  },
  {
   "cell_type": "code",
   "execution_count": 34,
   "metadata": {},
   "outputs": [
    {
     "data": {
      "text/plain": [
       "tensor([0.0009], grad_fn=<SigmoidBackward>)"
      ]
     },
     "execution_count": 34,
     "metadata": {},
     "output_type": "execute_result"
    }
   ],
   "source": [
    "class NeuralNetwork(Module):\n",
    "    \n",
    "    def __init__(self,input_size):\n",
    "        super(NeuralNetwork,self).__init__()\n",
    "        self.layer1=Linear(input_size,10)\n",
    "        kaiming_uniform_(self.layer1.weight,nonlinearity='relu')\n",
    "        self.activation1=ReLU()\n",
    "        \n",
    "        self.layer2=Linear(10,6)\n",
    "        kaiming_uniform_(self.layer2.weight,nonlinearity='relu')\n",
    "        self.activation2=ReLU()\n",
    "        \n",
    "        self.layer3=Linear(6,1)\n",
    "        xavier_uniform_(self.layer3.weight)\n",
    "        self.activation3=Sigmoid()\n",
    "    def forward(self,data):\n",
    "        data=self.layer1(data)\n",
    "        data=self.activation1(data)\n",
    "        data=self.layer2(data)\n",
    "        data=self.activation2(data)\n",
    "        data=self.layer3(data)\n",
    "        data=self.activation3(data)\n",
    "        return data\n",
    "def training(train_data,Model):\n",
    "    loss_func=BCELoss()\n",
    "    optimizer=SGD(Model.parameters(),lr=0.01,momentum=0.85)\n",
    "    for(x,y) in train_data:\n",
    "        optimizer.zero_grad()\n",
    "        result=Model(x)\n",
    "        loss=loss_func(result,y)\n",
    "        loss.backward()\n",
    "        optimizer.step()\n",
    "model=NeuralNetwork(5)\n",
    "model(Tensor([1,2,3,4,5]))"
   ]
  },
  {
   "cell_type": "code",
   "execution_count": 35,
   "metadata": {},
   "outputs": [],
   "source": [
    "path='ionosphere.csv'\n",
    "train,test=getdata(path,0.3)\n",
    "input_size=len(train.dataset[0][0])\n",
    "model=NeuralNetwork(input_size)\n",
    "training(train,model)"
   ]
  },
  {
   "cell_type": "code",
   "execution_count": 60,
   "metadata": {},
   "outputs": [],
   "source": [
    "def evalute(test_data,model):\n",
    "    acc_result=[]\n",
    "    acc_y=[]\n",
    "    for(x,y) in test_data:\n",
    "        result=model(x)\n",
    "        result=result.detach().numpy()\n",
    "        y=y.detach().round()\n",
    "        result=result.round()\n",
    "        acc_result.append(result)\n",
    "        acc_y.append(y)\n",
    "        acc_result=np.vstack(acc_result)\n",
    "        print(round(accuracy_score(acc_result,y),2)*100,'%')\n"
   ]
  },
  {
   "cell_type": "code",
   "execution_count": 100,
   "metadata": {},
   "outputs": [
    {
     "name": "stdout",
     "output_type": "stream",
     "text": [
      "59.0 %\n"
     ]
    }
   ],
   "source": [
    "evalute(test,model)"
   ]
  },
  {
   "cell_type": "code",
   "execution_count": null,
   "metadata": {},
   "outputs": [],
   "source": []
  }
 ],
 "metadata": {
  "kernelspec": {
   "display_name": "Python 3",
   "language": "python",
   "name": "python3"
  },
  "language_info": {
   "codemirror_mode": {
    "name": "ipython",
    "version": 3
   },
   "file_extension": ".py",
   "mimetype": "text/x-python",
   "name": "python",
   "nbconvert_exporter": "python",
   "pygments_lexer": "ipython3",
   "version": "3.7.6"
  }
 },
 "nbformat": 4,
 "nbformat_minor": 4
}
